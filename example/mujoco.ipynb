{
 "cells": [
  {
   "cell_type": "code",
   "execution_count": 32,
   "id": "39651392-e04d-41c5-9442-96127ec71b59",
   "metadata": {},
   "outputs": [],
   "source": [
    "import numpy as np\n",
    "np.set_printoptions(3, suppress=True)\n",
    "import mujoco\n",
    "from mim_data_utils import MujocoVisualizer, Scene, Logger"
   ]
  },
  {
   "cell_type": "code",
   "execution_count": 2,
   "id": "caf7c719-58f0-45f9-a665-4d3fd5b28f7a",
   "metadata": {},
   "outputs": [
    {
     "data": {
      "text/plain": [
       "<mim_data_utils.logger.SubprocessWriter at 0x7288193b8ad0>"
      ]
     },
     "execution_count": 2,
     "metadata": {},
     "output_type": "execute_result"
    },
    {
     "name": "stderr",
     "output_type": "stream",
     "text": [
      "WARNING:websocket_server.websocket_server:Client must always be masked.\n"
     ]
    }
   ],
   "source": [
    "# Use a subprocess to do the actual writing.\n",
    "log_writer = Logger.to_subprocess()\n",
    "\n",
    "# Initialize the websocket server to send data to the visualizer.\n",
    "log_writer.with_websocket()"
   ]
  },
  {
   "cell_type": "code",
   "execution_count": 44,
   "id": "e7c87c01-1a1a-4399-a1d2-d25672e649d9",
   "metadata": {},
   "outputs": [],
   "source": [
    "logger = Logger(log_writer)\n",
    "logger.clear()  # Calling clear to remove all previous logged data.\n",
    "logger.layout('qpos[:3];qvel[0],qvel[1],qvel[2]')\n",
    "\n",
    "# Loading mujoco scene.\n",
    "mj_model = mujoco.MjModel.from_xml_path('scene.xml')\n",
    "mj_data = mujoco.MjData(mj_model)\n",
    "dt = 0.001\n",
    "\n",
    "# Visualizer object.\n",
    "mj_viz = MujocoVisualizer(mj_model, mj_data)\n",
    "\n",
    "# The scene holds all 3d object data.\n",
    "scene = Scene()\n",
    "\n",
    "# Add the mujoco objects to the scene.\n",
    "mj_viz.populate_scene(scene)\n",
    "\n",
    "# Add color to the objects.\n",
    "for name, entry in scene.entries().items():\n",
    "    material = entry['object'].material\n",
    "    \n",
    "    if name == 'floor_0':\n",
    "        material['color'] =  np.array([168, 82, 53])\n",
    "    elif name == 'sphere_1':\n",
    "         material['color'] = 'dddddddd'  # Transparent gray\n",
    "    \n",
    "# This logs the 3d data.\n",
    "logger.log_static(scene)\n",
    "\n",
    "# Set location of camera 0.\n",
    "logger.camera_location(0, np.array([-0.2, -0.2, 0.3]), np.zeros(3))\n",
    "\n",
    "# Setup initial position of sphere.\n",
    "mj_data.qpos = [0, 0, 0.1, 1, 0, 0, 0]\n",
    "mj_data.qvel = [1, 0, 0, 0, 0, 0]\n",
    "\n",
    "# \n",
    "t = 0\n",
    "\n",
    "# You need to step before calling update_scene to populate all the\n",
    "# mujoco data.\n",
    "mujoco.mj_step(mj_model, mj_data)\n",
    "mj_viz.update_scene()\n",
    "logger.log(scene, t)"
   ]
  },
  {
   "cell_type": "code",
   "execution_count": 45,
   "id": "1dba3c89-5412-4ea7-923e-e33a095402cf",
   "metadata": {},
   "outputs": [],
   "source": [
    "mj_data.qpos = [0, 0, 0.1, 1, 0, 0, 0]\n",
    "mj_data.qvel = [1, 0, 0, 0, 0, 0]\n",
    "\n",
    "for ti in range(500):\n",
    "    # Send 3d updates only every 5 ms. Logging the full scene updates\n",
    "    # is a bit slow at the moment to do it for every dt.\n",
    "    if ti % 5 == 0:\n",
    "        mj_viz.update_scene()\n",
    "        logger.log(scene, t)\n",
    "\n",
    "    # Log some additional data.\n",
    "    # Note how the 3d data is logged only every 5 ms while the \n",
    "    # timeseries for position and velocity is logged every 1 ms.\n",
    "    # As long as the timeseries themself are monotonic increasing,\n",
    "    # the individual timeseries can be logged at arbitrary times.\n",
    "    logger.log({\n",
    "        'qpos': mj_data.qpos,\n",
    "        'qvel': mj_data.qvel\n",
    "    }, t)\n",
    "\n",
    "    # Calling this after every control cycle avoids high latency spikes.\n",
    "    # Flushing often is much faster than flushing every few times.\n",
    "    logger.flush()\n",
    "    \n",
    "    mujoco.mj_step(mj_model, mj_data)\n",
    "    t += dt"
   ]
  },
  {
   "cell_type": "code",
   "execution_count": null,
   "id": "b85bb5fe-ebb7-4a16-b6f0-b932564a9baf",
   "metadata": {},
   "outputs": [],
   "source": []
  }
 ],
 "metadata": {
  "kernelspec": {
   "display_name": "Python 3 (ipykernel)",
   "language": "python",
   "name": "python3"
  },
  "language_info": {
   "codemirror_mode": {
    "name": "ipython",
    "version": 3
   },
   "file_extension": ".py",
   "mimetype": "text/x-python",
   "name": "python",
   "nbconvert_exporter": "python",
   "pygments_lexer": "ipython3",
   "version": "3.12.2"
  }
 },
 "nbformat": 4,
 "nbformat_minor": 5
}
