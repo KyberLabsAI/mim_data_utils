{
 "cells": [
  {
   "cell_type": "code",
   "execution_count": 1,
   "id": "dfe44d90-690c-4f06-97e9-75a84352e971",
   "metadata": {},
   "outputs": [],
   "source": [
    "import numpy as np\n",
    "np.set_printoptions(suppress=True, precision=3, linewidth=250)\n",
    "from websocket_server import WebsocketServer\n",
    "import meshio\n",
    "import json"
   ]
  },
  {
   "cell_type": "code",
   "execution_count": 2,
   "id": "47a0104e-59ce-4940-a498-33f7c74f16d6",
   "metadata": {},
   "outputs": [],
   "source": [
    "server = WebsocketServer(host='127.0.0.1', port=5678)\n",
    "server.run_forever(threaded=True)"
   ]
  },
  {
   "cell_type": "code",
   "execution_count": 58,
   "id": "db17a3fd-413d-40a0-af09-295a17a9f8cd",
   "metadata": {},
   "outputs": [],
   "source": [
    "class Mesh:\n",
    "    def __init__(self, path, scale, color):\n",
    "        self.data = mesh = meshio.read(path)        \n",
    "        self.scale = scale\n",
    "        self.color = color\n",
    "\n",
    "        # Frontend expects flattened list.\n",
    "        self.vertices = np.array(mesh.points).reshape(-1)  \n",
    "        self.indices = np.array(mesh.cells_dict['triangle']).reshape(-1)"
   ]
  },
  {
   "cell_type": "code",
   "execution_count": 65,
   "id": "6934f4c4-822f-4277-9765-f3e61aa95dfd",
   "metadata": {},
   "outputs": [],
   "source": [
    "sphere = Mesh('sphere.obj', [0.01, 0.01, 0.01], '0x007bff')"
   ]
  },
  {
   "cell_type": "code",
   "execution_count": 63,
   "id": "69f6e6f7-983c-4ed0-847f-dfdb1c9c4d9e",
   "metadata": {},
   "outputs": [],
   "source": [
    "def msgMesh(name, mesh):\n",
    "    return {\n",
    "        '__static__': True,\n",
    "        'name': name,\n",
    "        'data': {\n",
    "            'name': name,\n",
    "            'type': '3dMesh',\n",
    "            'vertices': mesh.vertices,\n",
    "            'indices': mesh.indices,\n",
    "            'scale': mesh.scale,\n",
    "            'color': mesh.color\n",
    "        }\n",
    "    }"
   ]
  },
  {
   "cell_type": "code",
   "execution_count": 102,
   "id": "7b436a09-1f94-44ba-93aa-34b9f0c4c8e9",
   "metadata": {},
   "outputs": [],
   "source": [
    "def json_default(obj):\n",
    "    if type(obj).__module__ == np.__name__:\n",
    "        if isinstance(obj, np.ndarray):\n",
    "            return obj.tolist()\n",
    "        else:\n",
    "            return obj.item()\n",
    "    raise TypeError('Unknown type:', type(obj))\n",
    "\n",
    "def sendMsg(data):\n",
    "    server.send_message_to_all(json.dumps(data, default=json_default))\n",
    "\n",
    "sendMsg([\n",
    "    {\n",
    "        'time': 0.0,\n",
    "        '3d/sphere/pos': [0., 0, 0.1, 0, 0, 0]\n",
    "    }, \n",
    "    msgMesh('3d/sphere', sphere),\n",
    "    msgMesh('3d/sphere2', sphere)\n",
    "])\n",
    "\n",
    "for ti in range(1000):\n",
    "    t = 0.001 * ti\n",
    "    sendMsg([{\n",
    "        'time': t,\n",
    "        '3d/sphere/pos': [0.1 * np.sin(2 * np.pi * t), 0.2 * np.cos(2 * np.pi * t), 0.1, 0, 0, 0]\n",
    "    }])"
   ]
  },
  {
   "cell_type": "code",
   "execution_count": 98,
   "id": "14cc496d-795a-4685-ae7d-9f0fcb9ed885",
   "metadata": {},
   "outputs": [
    {
     "data": {
      "text/plain": [
       "3.141592653589793"
      ]
     },
     "execution_count": 98,
     "metadata": {},
     "output_type": "execute_result"
    }
   ],
   "source": [
    "np.pi"
   ]
  },
  {
   "cell_type": "code",
   "execution_count": null,
   "id": "f4a5e82d-0a52-495d-bfe0-2f183a35ea40",
   "metadata": {},
   "outputs": [],
   "source": []
  }
 ],
 "metadata": {
  "kernelspec": {
   "display_name": "Python 3 (ipykernel)",
   "language": "python",
   "name": "python3"
  },
  "language_info": {
   "codemirror_mode": {
    "name": "ipython",
    "version": 3
   },
   "file_extension": ".py",
   "mimetype": "text/x-python",
   "name": "python",
   "nbconvert_exporter": "python",
   "pygments_lexer": "ipython3",
   "version": "3.12.7"
  }
 },
 "nbformat": 4,
 "nbformat_minor": 5
}
